{
 "cells": [
  {
   "cell_type": "code",
   "execution_count": 5,
   "id": "65a86a8b",
   "metadata": {},
   "outputs": [
    {
     "name": "stdout",
     "output_type": "stream",
     "text": [
      "errdtotal= 2.0\n"
     ]
    }
   ],
   "source": [
    "import numpy as np\n",
    "\n",
    "#rule 1\n",
    "\n",
    "def rule1(c, da):\n",
    "    dQ = c*da\n",
    "    return dQ\n",
    "c = 4\n",
    "d1 =5\n",
    "errd1 =.5\n",
    "errdtotal = rule1(c, errd1)\n",
    "print(\"errdtotal=\", errdtotal)"
   ]
  },
  {
   "cell_type": "code",
   "execution_count": 11,
   "id": "d2e74aaa",
   "metadata": {},
   "outputs": [
    {
     "name": "stdout",
     "output_type": "stream",
     "text": [
      "150.0\n"
     ]
    }
   ],
   "source": [
    "import numpy as np\n",
    "\n",
    "#rule 2\n",
    "\n",
    "def rule2(c, m, A, dA):\n",
    "    dQ = c*m*A**(m-1)*dA\n",
    "    return dQ\n",
    "c =4\n",
    "A =5\n",
    "m =3\n",
    "errA = .5\n",
    "errQ = rule2(c, m, A, errA)\n",
    "print(errQ)\n"
   ]
  },
  {
   "cell_type": "code",
   "execution_count": null,
   "id": "e57142e9",
   "metadata": {},
   "outputs": [],
   "source": []
  },
  {
   "cell_type": "code",
   "execution_count": 18,
   "id": "1cbb975c",
   "metadata": {},
   "outputs": [
    {
     "name": "stdout",
     "output_type": "stream",
     "text": [
      "errdtotal 0.7071067811865476\n",
      "errdtoal= 7\n"
     ]
    }
   ],
   "source": [
    "import numpy as np\n",
    "\n",
    "def rule3(da, db):\n",
    "    dQ= np.sqrt(da**2+db**2)\n",
    "    return dQ\n",
    "\n",
    "d1= 4\n",
    "d2=3\n",
    "errd1=.5\n",
    "errd2=.5\n",
    "dtotal= d1+d2\n",
    "errdtotal= rule3(errd1, errd2)\n",
    "print(\"errdtotal\", errdtotal)\n",
    "print(\"errdtoal=\", dtotal)"
   ]
  },
  {
   "cell_type": "code",
   "execution_count": 25,
   "id": "46a0bcb2",
   "metadata": {},
   "outputs": [
    {
     "name": "stdout",
     "output_type": "stream",
     "text": [
      "2.1226457547127358\n"
     ]
    }
   ],
   "source": [
    "import numpy as np\n",
    "\n",
    "def rule4(A, dA, m, B, dB, n, Q):\n",
    "    dQ = np.sqrt((m*(dA)/A)**2 + (n*(dB/B)**2))*Q\n",
    "    return dQ\n",
    "Q = 4\n",
    "A =3\n",
    "dA =.05\n",
    "m =2\n",
    "B =3\n",
    "dB =.5\n",
    "n =2\n",
    "errdtotal= rule4(Q, A, dA, m, B, dB, n)\n",
    "print(errdtotal)"
   ]
  },
  {
   "cell_type": "code",
   "execution_count": null,
   "id": "aacfc1b0",
   "metadata": {},
   "outputs": [],
   "source": [
    "import numpy as np\n",
    "\n",
    "#finding error in initial v for method 2\n",
    "\n"
   ]
  },
  {
   "cell_type": "code",
   "execution_count": 26,
   "id": "7b90511f",
   "metadata": {},
   "outputs": [
    {
     "name": "stdout",
     "output_type": "stream",
     "text": [
      "-0.022268975860072867\n"
     ]
    }
   ],
   "source": [
    "import numpy as np\n",
    "\n",
    "#finding error in initial v for method 2\n",
    "\n",
    "def rule4(A, dA, m, B, dB, n, Q):\n",
    "    dQ = np.sqrt((m*(dA)/A)**2 + (n*(dB/B)**2))*Q\n",
    "    return dQ\n",
    "Q = 2.27\n",
    "A =1.022\n",
    "dA =.0049\n",
    "m =1\n",
    "B =.991\n",
    "dB =.0005\n",
    "n =-1\n",
    "errdtotal= rule4(Q, A, dA, m, B, dB, n)\n",
    "print(errdtotal)\n",
    "\n",
    "#this value is .003 away from the value of .025 m/s we found in the lab last week."
   ]
  },
  {
   "cell_type": "code",
   "execution_count": 27,
   "id": "29672a16",
   "metadata": {},
   "outputs": [
    {
     "name": "stdout",
     "output_type": "stream",
     "text": [
      "1.1166666666666667\n",
      "0.17950549357115014\n"
     ]
    }
   ],
   "source": [
    "#Using Python for calculations\n",
    "\n",
    "x = np.array([1.1, 1.3, 1.4, .9, .95, 1.05])\n",
    "xmean = np.average(x)\n",
    "xstdev =np.std(x)\n",
    "print(xmean)\n",
    "print(xstdev)\n",
    "\n",
    "\n",
    "#for the given data set the mean was 1.11 and the error in the mean was .073"
   ]
  },
  {
   "cell_type": "markdown",
   "id": "9bee72fd",
   "metadata": {},
   "source": [
    "$ \\delta Q = \\sqrt{(\\delta A)^2 + (\\delta B)^2} $"
   ]
  },
  {
   "cell_type": "markdown",
   "id": "e4c83cc0",
   "metadata": {},
   "source": [
    "$ \\delta v = (2.27)(\\sqrt{(.0049/1.022)^2+(-.0005/(2(.991))^2} $"
   ]
  }
 ],
 "metadata": {
  "kernelspec": {
   "display_name": "Python 3",
   "language": "python",
   "name": "python3"
  },
  "language_info": {
   "codemirror_mode": {
    "name": "ipython",
    "version": 3
   },
   "file_extension": ".py",
   "mimetype": "text/x-python",
   "name": "python",
   "nbconvert_exporter": "python",
   "pygments_lexer": "ipython3",
   "version": "3.8.8"
  }
 },
 "nbformat": 4,
 "nbformat_minor": 5
}
